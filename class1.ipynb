{
  "nbformat": 4,
  "nbformat_minor": 0,
  "metadata": {
    "colab": {
      "provenance": [],
      "authorship_tag": "ABX9TyO8bRoCw6Z/HxCASBwjU44Q",
      "include_colab_link": true
    },
    "kernelspec": {
      "name": "python3",
      "display_name": "Python 3"
    },
    "language_info": {
      "name": "python"
    }
  },
  "cells": [
    {
      "cell_type": "markdown",
      "metadata": {
        "id": "view-in-github",
        "colab_type": "text"
      },
      "source": [
        "<a href=\"https://colab.research.google.com/github/tanixtreme/pesuio-slot16/blob/main/class1.ipynb\" target=\"_parent\"><img src=\"https://colab.research.google.com/assets/colab-badge.svg\" alt=\"Open In Colab\"/></a>"
      ]
    },
    {
      "cell_type": "code",
      "execution_count": null,
      "metadata": {
        "colab": {
          "base_uri": "https://localhost:8080/"
        },
        "id": "IXNVOxnqaawV",
        "outputId": "9c78dd74-5ed9-41d2-e1c3-26e0cfa87236"
      },
      "outputs": [
        {
          "output_type": "stream",
          "name": "stdout",
          "text": [
            "hello world\n"
          ]
        }
      ],
      "source": [
        "print(\"hello world\")"
      ]
    },
    {
      "cell_type": "code",
      "source": [
        "n=int(input(\"Enter your number:\"))\n",
        "if n%2==0:\n",
        "    print(\"Even\")\n",
        "else:\n",
        "    print(\"Odd\")\n"
      ],
      "metadata": {
        "colab": {
          "base_uri": "https://localhost:8080/"
        },
        "id": "hPCQuLbeeIUr",
        "outputId": "1187c8fc-ec66-46e0-d101-73fd21ab1051"
      },
      "execution_count": null,
      "outputs": [
        {
          "output_type": "stream",
          "name": "stdout",
          "text": [
            "Enter your number:12\n",
            "Even\n"
          ]
        }
      ]
    },
    {
      "cell_type": "code",
      "source": [
        "#print all the vowels\n",
        "text=input(\"Enter the input:\")\n",
        "vowels=['a','e','i','o','u']\n",
        "for i in text:\n",
        "  if i in vowels:\n",
        "    print(i)\n"
      ],
      "metadata": {
        "colab": {
          "base_uri": "https://localhost:8080/"
        },
        "id": "lq50h8nWfcag",
        "outputId": "8ac1498d-8a72-45cb-c098-b22e4ab42da7"
      },
      "execution_count": null,
      "outputs": [
        {
          "output_type": "stream",
          "name": "stdout",
          "text": [
            "Enter the input:abcdefghij\n",
            "a\n",
            "e\n",
            "i\n"
          ]
        }
      ]
    },
    {
      "cell_type": "code",
      "source": [
        "n1=int(input(\"Enter number 1:\"))\n",
        "n2=int(input(\"Enter number 2:\"))\n",
        "print(n1+n2)"
      ],
      "metadata": {
        "colab": {
          "base_uri": "https://localhost:8080/"
        },
        "id": "OJ-xeHOwhcJi",
        "outputId": "d0fc76ea-b676-4a67-fb79-522d4b8872ee"
      },
      "execution_count": null,
      "outputs": [
        {
          "output_type": "stream",
          "name": "stdout",
          "text": [
            "Enter number 1:523\n",
            "Enter number 2:8754\n",
            "9277\n"
          ]
        }
      ]
    },
    {
      "cell_type": "code",
      "source": [
        "l=[1,1,3,4,4,4,6,7,8,8,8]\n",
        "d={}\n",
        "for i in l:\n",
        "  if i in d:\n",
        "    d[i]+=1\n",
        "  else:\n",
        "    d[i]=1\n",
        "print(d)"
      ],
      "metadata": {
        "colab": {
          "base_uri": "https://localhost:8080/"
        },
        "id": "i8CFTo7iiBmZ",
        "outputId": "17257c09-5945-4c4c-e060-4e3a75f7b002"
      },
      "execution_count": null,
      "outputs": [
        {
          "output_type": "stream",
          "name": "stdout",
          "text": [
            "{1: 2, 3: 1, 4: 3, 6: 1, 7: 1, 8: 3}\n"
          ]
        }
      ]
    },
    {
      "cell_type": "code",
      "source": [
        "str=\"betty bought butter but the butter was bitter so betty bought better butter to make the bitter butter better\"\n",
        "list=str.split(\" \")\n",
        "myset=set(list)\n",
        "#print(myset)\n",
        "d={}\n",
        "\n",
        "for i in list:\n",
        "  if i in d:\n",
        "    d[i]+=1\n",
        "  else:\n",
        "    d[i]=1\n",
        "print(d)\n"
      ],
      "metadata": {
        "colab": {
          "base_uri": "https://localhost:8080/"
        },
        "id": "-hTR9Nq5kJ_P",
        "outputId": "d5fe8ffb-abe0-4084-f57c-d5c14cf098f3"
      },
      "execution_count": null,
      "outputs": [
        {
          "output_type": "stream",
          "name": "stdout",
          "text": [
            "{'betty': 2, 'bought': 2, 'butter': 4, 'but': 1, 'the': 2, 'was': 1, 'bitter': 2, 'so': 1, 'better': 2, 'to': 1, 'make': 1}\n"
          ]
        }
      ]
    },
    {
      "cell_type": "code",
      "source": [
        "n1=input(\"Enter name1:\")\n",
        "n2=input(\"Enter name2:\")\n",
        "a1=input(\"enter age 1:\")\n",
        "a2=input(\"enter age 2:\")\n",
        "print(\"\")"
      ],
      "metadata": {
        "id": "yZFaW5Btisl8"
      },
      "execution_count": null,
      "outputs": []
    },
    {
      "cell_type": "markdown",
      "source": [],
      "metadata": {
        "id": "HL-q5ILi8vhT"
      }
    }
  ]
}